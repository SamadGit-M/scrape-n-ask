{
 "cells": [
  {
   "cell_type": "code",
   "execution_count": 2,
   "id": "db282a37",
   "metadata": {},
   "outputs": [
    {
     "name": "stdout",
     "output_type": "stream",
     "text": [
      "Enter the website URL: https://www.python.org/about/\n",
      "✅ Website scraped successfully.\n",
      "\n",
      "Ask something (type 'exit' to quit): what is python compiler?\n",
      "Bot: Python's documentation\n",
      "\n",
      "Ask something (type 'exit' to quit): exit\n",
      "Chat ended.\n"
     ]
    }
   ],
   "source": [
    "# STEP 1: Install packages (run once)\n",
    "# !pip install openai requests beautifulsoup4\n",
    "\n",
    "# STEP 2: Imports and API setup\n",
    "from openai import OpenAI\n",
    "import requests\n",
    "from bs4 import BeautifulSoup\n",
    "\n",
    "# Replace with your real API key\n",
    "client = OpenAI(api_key=\"enter you key and it works properly\")\n",
    "\n",
    "# STEP 3: Function to scrape content from a website\n",
    "def scrape_website(url):\n",
    "    try:\n",
    "        response = requests.get(url)\n",
    "        soup = BeautifulSoup(response.text, \"html.parser\")\n",
    "        paragraphs = soup.find_all(\"p\")\n",
    "        content = \"\\n\".join(p.get_text() for p in paragraphs)\n",
    "        return content[:3500]  # Limit for token usage\n",
    "    except Exception as e:\n",
    "        return f\"Error scraping site: {str(e)}\"\n",
    "\n",
    "# STEP 4: Function to ask ChatGPT using context\n",
    "def ask_chatgpt(context, user_input):\n",
    "    try:\n",
    "        response = client.chat.completions.create(\n",
    "            model=\"gpt-3.5-turbo\",\n",
    "            messages=[\n",
    "                {\"role\": \"system\", \"content\": f\"You are a helpful assistant. The user is asking questions about this website:\\n{context}\"},\n",
    "                {\"role\": \"user\", \"content\": user_input}\n",
    "            ]\n",
    "        )\n",
    "        return response.choices[0].message.content.strip()\n",
    "    except Exception as e:\n",
    "        return f\"ChatGPT error: {str(e)}\"\n",
    "\n",
    "# STEP 5: Run the chatbot in console-style loop\n",
    "url = input(\"Enter the website URL: \")\n",
    "context = scrape_website(url)\n",
    "print(\"✅ Website scraped successfully.\")\n",
    "\n",
    "while True:\n",
    "    user_input = input(\"\\nAsk something (type 'exit' to quit): \")\n",
    "    if user_input.lower() == \"exit\":\n",
    "        print(\"Chat ended.\")\n",
    "        break\n",
    "    response = ask_chatgpt(context, user_input)\n",
    "    print(\"Bot:\", response)\n"
   ]
  },
  {
   "cell_type": "code",
   "execution_count": null,
   "id": "2244175c",
   "metadata": {},
   "outputs": [],
   "source": []
  },
  {
   "cell_type": "code",
   "execution_count": null,
   "id": "affeec9e",
   "metadata": {},
   "outputs": [],
   "source": []
  },
  {
   "cell_type": "code",
   "execution_count": null,
   "id": "11f35bb1",
   "metadata": {},
   "outputs": [],
   "source": []
  }
 ],
 "metadata": {
  "kernelspec": {
   "display_name": "Python 3",
   "language": "python",
   "name": "python3"
  },
  "language_info": {
   "codemirror_mode": {
    "name": "ipython",
    "version": 3
   },
   "file_extension": ".py",
   "mimetype": "text/x-python",
   "name": "python",
   "nbconvert_exporter": "python",
   "pygments_lexer": "ipython3",
   "version": "3.8.8"
  }
 },
 "nbformat": 4,
 "nbformat_minor": 5
}
